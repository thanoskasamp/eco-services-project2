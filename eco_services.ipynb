{
 "cells": [
  {
   "cell_type": "markdown",
   "metadata": {},
   "source": [
    "# Project idea"
   ]
  },
  {
   "cell_type": "markdown",
   "metadata": {},
   "source": [
    "This project quantifies and analyzes changes in CORINE Land Cover and ecosystem services within a 5 km buffer around Central Macedonia's main roads between 2006 and 2012. It integrates spatial analysis with an interactive Streamlit dashboard to reveal the ecological impacts of transportation infrastructure over time."
   ]
  },
  {
   "cell_type": "markdown",
   "metadata": {},
   "source": [
    "## Data"
   ]
  },
  {
   "cell_type": "code",
   "execution_count": 13,
   "metadata": {},
   "outputs": [],
   "source": [
    "import pandas as pd\n",
    "import geopandas as gpd\n",
    "import shapely.geometry\n",
    "import osmnx\n",
    "import matplotlib"
   ]
  },
  {
   "cell_type": "markdown",
   "metadata": {},
   "source": [
    "Set the data and output directories"
   ]
  },
  {
   "cell_type": "code",
   "execution_count": 9,
   "metadata": {},
   "outputs": [],
   "source": [
    "import pathlib \n",
    "NOTEBOOK_PATH = pathlib.Path().resolve()\n",
    "DATA_DIRECTORY = NOTEBOOK_PATH / \"data\"\n",
    "OUTPUT_DIRECTORY = NOTEBOOK_PATH / \"docs\""
   ]
  },
  {
   "cell_type": "markdown",
   "metadata": {},
   "source": [
    "Function for downloading data from the web as zip and extract them on the data directory."
   ]
  },
  {
   "cell_type": "code",
   "execution_count": 18,
   "metadata": {},
   "outputs": [],
   "source": [
    "import requests\n",
    "import zipfile\n",
    "import io\n",
    "\n",
    "# Function to download and extract a zip file\n",
    "def download_and_extract_zip(zip_url, extract_to=\"data\"):\n",
    "    response = requests.get(zip_url)\n",
    "    response.raise_for_status()\n",
    "    with zipfile.ZipFile(io.BytesIO(response.content)) as z:\n",
    "        z.extractall(extract_to)"
   ]
  },
  {
   "cell_type": "markdown",
   "metadata": {},
   "source": [
    "### Corine Land Cover"
   ]
  },
  {
   "cell_type": "markdown",
   "metadata": {},
   "source": [
    "Corine Land Cover data was downloaded from [data.ktimatologio.gr](https://data.ktimatologio.gr/)"
   ]
  },
  {
   "cell_type": "code",
   "execution_count": null,
   "metadata": {},
   "outputs": [],
   "source": [
    "# Urls for the Corine Land Cover data\n",
    "zip_url1 = \"https://data.ktimatologio.gr/sites/default/files/2021-10/CLC06_GR.zip\"\n",
    "download_and_extract_zip(zip_url1)\n",
    "\n",
    "zip_url2 = \"https://data.ktimatologio.gr/sites/default/files/2021-10/CLC12_GR.zip\"\n",
    "download_and_extract_zip(zip_url2)\n",
    "\n",
    "# Convert to GeoDataFrames\n",
    "corine06 = gpd.read_file(\n",
    "    DATA_DIRECTORY\n",
    "    /\"CLC06_GR\"\n",
    "    /\"CLC06_GR.shp\")   \n",
    "\n",
    "corine12 = gpd.read_file(\n",
    "    DATA_DIRECTORY\n",
    "    /\"CLC12_GR\"\n",
    "    /\"CLC12_GR.shp\")"
   ]
  },
  {
   "cell_type": "markdown",
   "metadata": {},
   "source": [
    "### Ecosystem services"
   ]
  },
  {
   "cell_type": "markdown",
   "metadata": {},
   "source": [
    "Data..."
   ]
  },
  {
   "cell_type": "code",
   "execution_count": null,
   "metadata": {},
   "outputs": [],
   "source": [
    "# Import the data\n",
    "eco_services = pd.read_csv(\n",
    "    DATA_DIRECTORY\n",
    "    / \"eco_services.csv\",\n",
    "    sep=\";\",\n",
    "    header=0,\n",
    ")\n",
    "\n",
    "# Select columns of interest\n",
    "eco_services = eco_services[[\"Code\",\n",
    "                            \"Ecological integrity (steiles B - H)\",\n",
    "                             'Provisioning ecosystem services (J - T)',\n",
    "                             'Regulating ecosystem services (V - AD)',\n",
    "                             'Cultural ecosystem services (AF - AG)'\n",
    "                             ]]\n",
    "\n",
    "# Rename columns\n",
    "new_names = {\n",
    "    \"Ecological integrity (steiles B - H)\": \"ecological_integrity\",\n",
    "    \"Provisioning ecosystem services (J - T)\": \"provisioning_services\",\n",
    "    \"Regulating ecosystem services (V - AD)\": \"regulating_services\",\n",
    "    \"Cultural ecosystem services (AF - AG)\": \"cultural_services\",\n",
    "}\n",
    "eco_services = eco_services.rename(columns=new_names)"
   ]
  },
  {
   "cell_type": "markdown",
   "metadata": {},
   "source": [
    "### Municipality Data"
   ]
  },
  {
   "cell_type": "markdown",
   "metadata": {},
   "source": [
    "Municipality data was downloaded from [geodata.gov.gr](http://geodata.gov.gr/)"
   ]
  },
  {
   "cell_type": "code",
   "execution_count": null,
   "metadata": {},
   "outputs": [],
   "source": [
    "# Import the data\n",
    "zip_url3 = \"http://geodata.gov.gr/dataset/63786e9f-7be9-4d1e-99c9-48ff45d0962f/resource/6643d54a-f1af-4841-ad99-7a49a1d13650/download/oriadhmwnkallikraths.zip\"\n",
    "download_and_extract_zip(zip_url3)\n",
    "\n",
    "# Convert to GeoDataFrame\n",
    "grid = gpd.read_file(\n",
    "    DATA_DIRECTORY\n",
    "    / \"oria_dhmwn_kallikraths\"\n",
    "    / \"oria_dhmwn_kallikraths.shp\",\n",
    "    encoding=\"ISO-8859-7\" # for greek letters\n",
    ")"
   ]
  },
  {
   "cell_type": "markdown",
   "metadata": {},
   "source": [
    "### OSM Data"
   ]
  },
  {
   "cell_type": "code",
   "execution_count": 43,
   "metadata": {},
   "outputs": [
    {
     "name": "stderr",
     "output_type": "stream",
     "text": [
      "c:\\Users\\thano\\anaconda3\\envs\\autogis\\lib\\site-packages\\osmnx\\_overpass.py:267: UserWarning: This area is 11 times your configured Overpass max query area size. It will automatically be divided up into multiple sub-queries accordingly. This may take a long time.\n",
      "  multi_poly_proj = utils_geo._consolidate_subdivide_geometry(poly_proj)\n"
     ]
    }
   ],
   "source": [
    "central_mac = \"Περιφέρεια Κεντρικής Μακεδονίας\"\n",
    "\n",
    "graph_central_mac = osmnx.graph_from_place(central_mac, network_type=\"drive\")\n",
    "edges = osmnx.graph_to_gdfs(graph_central_mac)\n",
    "area_mac = osmnx.geocode_to_gdf(central_mac)\n",
    "\n",
    "area_mac = area_mac.to_crs(2100)\n",
    "edges = edges.to_crs(2100)\n",
    "graph_central_mac = osmnx.project_graph(graph_central_mac, to_crs=2100)"
   ]
  },
  {
   "cell_type": "code",
   "execution_count": 86,
   "metadata": {},
   "outputs": [
    {
     "data": {
      "text/html": [
       "<div>\n",
       "<style scoped>\n",
       "    .dataframe tbody tr th:only-of-type {\n",
       "        vertical-align: middle;\n",
       "    }\n",
       "\n",
       "    .dataframe tbody tr th {\n",
       "        vertical-align: top;\n",
       "    }\n",
       "\n",
       "    .dataframe thead th {\n",
       "        text-align: right;\n",
       "    }\n",
       "</style>\n",
       "<table border=\"1\" class=\"dataframe\">\n",
       "  <thead>\n",
       "    <tr style=\"text-align: right;\">\n",
       "      <th></th>\n",
       "      <th></th>\n",
       "      <th></th>\n",
       "      <th>osmid</th>\n",
       "      <th>highway</th>\n",
       "      <th>oneway</th>\n",
       "      <th>reversed</th>\n",
       "      <th>length</th>\n",
       "      <th>geometry</th>\n",
       "      <th>lanes</th>\n",
       "      <th>name</th>\n",
       "      <th>maxspeed</th>\n",
       "      <th>width</th>\n",
       "      <th>access</th>\n",
       "      <th>bridge</th>\n",
       "      <th>ref</th>\n",
       "      <th>junction</th>\n",
       "      <th>tunnel</th>\n",
       "      <th>est_width</th>\n",
       "      <th>service</th>\n",
       "      <th>area</th>\n",
       "    </tr>\n",
       "    <tr>\n",
       "      <th>u</th>\n",
       "      <th>v</th>\n",
       "      <th>key</th>\n",
       "      <th></th>\n",
       "      <th></th>\n",
       "      <th></th>\n",
       "      <th></th>\n",
       "      <th></th>\n",
       "      <th></th>\n",
       "      <th></th>\n",
       "      <th></th>\n",
       "      <th></th>\n",
       "      <th></th>\n",
       "      <th></th>\n",
       "      <th></th>\n",
       "      <th></th>\n",
       "      <th></th>\n",
       "      <th></th>\n",
       "      <th></th>\n",
       "      <th></th>\n",
       "      <th></th>\n",
       "    </tr>\n",
       "  </thead>\n",
       "  <tbody>\n",
       "    <tr>\n",
       "      <th rowspan=\"3\" valign=\"top\">135401287</th>\n",
       "      <th>8274769613</th>\n",
       "      <th>0</th>\n",
       "      <td>27013165</td>\n",
       "      <td>tertiary</td>\n",
       "      <td>False</td>\n",
       "      <td>False</td>\n",
       "      <td>780.385241</td>\n",
       "      <td>LINESTRING (493574.364 4423509.696, 493560.086...</td>\n",
       "      <td>NaN</td>\n",
       "      <td>NaN</td>\n",
       "      <td>NaN</td>\n",
       "      <td>NaN</td>\n",
       "      <td>NaN</td>\n",
       "      <td>NaN</td>\n",
       "      <td>NaN</td>\n",
       "      <td>NaN</td>\n",
       "      <td>NaN</td>\n",
       "      <td>NaN</td>\n",
       "      <td>NaN</td>\n",
       "      <td>NaN</td>\n",
       "    </tr>\n",
       "    <tr>\n",
       "      <th>8274640348</th>\n",
       "      <th>0</th>\n",
       "      <td>27213549</td>\n",
       "      <td>secondary</td>\n",
       "      <td>False</td>\n",
       "      <td>False</td>\n",
       "      <td>58.962948</td>\n",
       "      <td>LINESTRING (493574.364 4423509.696, 493577.942...</td>\n",
       "      <td>2</td>\n",
       "      <td>Περιμετρική Οδός Σιθωνίας</td>\n",
       "      <td>NaN</td>\n",
       "      <td>NaN</td>\n",
       "      <td>NaN</td>\n",
       "      <td>NaN</td>\n",
       "      <td>NaN</td>\n",
       "      <td>NaN</td>\n",
       "      <td>NaN</td>\n",
       "      <td>NaN</td>\n",
       "      <td>NaN</td>\n",
       "      <td>NaN</td>\n",
       "    </tr>\n",
       "    <tr>\n",
       "      <th>8274769525</th>\n",
       "      <th>0</th>\n",
       "      <td>27222414</td>\n",
       "      <td>secondary</td>\n",
       "      <td>False</td>\n",
       "      <td>True</td>\n",
       "      <td>1179.400693</td>\n",
       "      <td>LINESTRING (493574.364 4423509.696, 493570.752...</td>\n",
       "      <td>2</td>\n",
       "      <td>Περιμετρική Οδός Σιθωνίας</td>\n",
       "      <td>NaN</td>\n",
       "      <td>NaN</td>\n",
       "      <td>NaN</td>\n",
       "      <td>NaN</td>\n",
       "      <td>NaN</td>\n",
       "      <td>NaN</td>\n",
       "      <td>NaN</td>\n",
       "      <td>NaN</td>\n",
       "      <td>NaN</td>\n",
       "      <td>NaN</td>\n",
       "    </tr>\n",
       "    <tr>\n",
       "      <th rowspan=\"2\" valign=\"top\">135827942</th>\n",
       "      <th>11244868511</th>\n",
       "      <th>0</th>\n",
       "      <td>14203818</td>\n",
       "      <td>residential</td>\n",
       "      <td>True</td>\n",
       "      <td>False</td>\n",
       "      <td>71.498639</td>\n",
       "      <td>LINESTRING (484122.386 4448029.916, 484129.954...</td>\n",
       "      <td>1</td>\n",
       "      <td>NaN</td>\n",
       "      <td>30</td>\n",
       "      <td>5</td>\n",
       "      <td>NaN</td>\n",
       "      <td>NaN</td>\n",
       "      <td>NaN</td>\n",
       "      <td>NaN</td>\n",
       "      <td>NaN</td>\n",
       "      <td>NaN</td>\n",
       "      <td>NaN</td>\n",
       "      <td>NaN</td>\n",
       "    </tr>\n",
       "    <tr>\n",
       "      <th>1775534231</th>\n",
       "      <th>0</th>\n",
       "      <td>27031273</td>\n",
       "      <td>tertiary</td>\n",
       "      <td>False</td>\n",
       "      <td>True</td>\n",
       "      <td>159.368033</td>\n",
       "      <td>LINESTRING (484122.386 4448029.916, 484126.628...</td>\n",
       "      <td>2</td>\n",
       "      <td>NaN</td>\n",
       "      <td>30</td>\n",
       "      <td>5</td>\n",
       "      <td>NaN</td>\n",
       "      <td>NaN</td>\n",
       "      <td>NaN</td>\n",
       "      <td>NaN</td>\n",
       "      <td>NaN</td>\n",
       "      <td>NaN</td>\n",
       "      <td>NaN</td>\n",
       "      <td>NaN</td>\n",
       "    </tr>\n",
       "  </tbody>\n",
       "</table>\n",
       "</div>"
      ],
      "text/plain": [
       "                              osmid      highway  oneway reversed  \\\n",
       "u         v           key                                           \n",
       "135401287 8274769613  0    27013165     tertiary   False    False   \n",
       "          8274640348  0    27213549    secondary   False    False   \n",
       "          8274769525  0    27222414    secondary   False     True   \n",
       "135827942 11244868511 0    14203818  residential    True    False   \n",
       "          1775534231  0    27031273     tertiary   False     True   \n",
       "\n",
       "                                length  \\\n",
       "u         v           key                \n",
       "135401287 8274769613  0     780.385241   \n",
       "          8274640348  0      58.962948   \n",
       "          8274769525  0    1179.400693   \n",
       "135827942 11244868511 0      71.498639   \n",
       "          1775534231  0     159.368033   \n",
       "\n",
       "                                                                    geometry  \\\n",
       "u         v           key                                                      \n",
       "135401287 8274769613  0    LINESTRING (493574.364 4423509.696, 493560.086...   \n",
       "          8274640348  0    LINESTRING (493574.364 4423509.696, 493577.942...   \n",
       "          8274769525  0    LINESTRING (493574.364 4423509.696, 493570.752...   \n",
       "135827942 11244868511 0    LINESTRING (484122.386 4448029.916, 484129.954...   \n",
       "          1775534231  0    LINESTRING (484122.386 4448029.916, 484126.628...   \n",
       "\n",
       "                          lanes                       name maxspeed width  \\\n",
       "u         v           key                                                   \n",
       "135401287 8274769613  0     NaN                        NaN      NaN   NaN   \n",
       "          8274640348  0       2  Περιμετρική Οδός Σιθωνίας      NaN   NaN   \n",
       "          8274769525  0       2  Περιμετρική Οδός Σιθωνίας      NaN   NaN   \n",
       "135827942 11244868511 0       1                        NaN       30     5   \n",
       "          1775534231  0       2                        NaN       30     5   \n",
       "\n",
       "                          access bridge  ref junction tunnel est_width  \\\n",
       "u         v           key                                                \n",
       "135401287 8274769613  0      NaN    NaN  NaN      NaN    NaN       NaN   \n",
       "          8274640348  0      NaN    NaN  NaN      NaN    NaN       NaN   \n",
       "          8274769525  0      NaN    NaN  NaN      NaN    NaN       NaN   \n",
       "135827942 11244868511 0      NaN    NaN  NaN      NaN    NaN       NaN   \n",
       "          1775534231  0      NaN    NaN  NaN      NaN    NaN       NaN   \n",
       "\n",
       "                          service area  \n",
       "u         v           key               \n",
       "135401287 8274769613  0       NaN  NaN  \n",
       "          8274640348  0       NaN  NaN  \n",
       "          8274769525  0       NaN  NaN  \n",
       "135827942 11244868511 0       NaN  NaN  \n",
       "          1775534231  0       NaN  NaN  "
      ]
     },
     "execution_count": 86,
     "metadata": {},
     "output_type": "execute_result"
    }
   ],
   "source": [
    "edges.head()"
   ]
  }
 ],
 "metadata": {
  "kernelspec": {
   "display_name": "autogis",
   "language": "python",
   "name": "python3"
  },
  "language_info": {
   "codemirror_mode": {
    "name": "ipython",
    "version": 3
   },
   "file_extension": ".py",
   "mimetype": "text/x-python",
   "name": "python",
   "nbconvert_exporter": "python",
   "pygments_lexer": "ipython3",
   "version": "3.9.21"
  }
 },
 "nbformat": 4,
 "nbformat_minor": 2
}
